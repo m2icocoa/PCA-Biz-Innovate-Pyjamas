{
 "cells": [
  {
   "cell_type": "code",
   "execution_count": null,
   "id": "f6ac08ec",
   "metadata": {
    "tags": []
   },
   "outputs": [],
   "source": [
    "install.packages(\"kknn\")\n",
    "install.packages(\"gridExtra\")\n",
    "library(tidyverse)\n",
    "library(tidymodels)\n",
    "library(gridExtra)\n",
    "library(dplyr)\n",
    "library(kknn)\n",
    "library(class)\n",
    "\n",
    "set.seed(5)"
   ]
  },
  {
   "cell_type": "code",
   "execution_count": null,
   "id": "375127b1",
   "metadata": {
    "tags": []
   },
   "outputs": [],
   "source": [
    "#water <- read_csv(\"train.csv\")\n",
    "water_train <- read_csv(\"water_train_new.csv\")\n",
    "water_train <- mutate(water_train, urban_bi = \n",
    "                case_when(urban == \"R\" ~ 0,\n",
    "                          urban == \"U\" ~ 1))\n",
    "water_test <- read_csv(\"water_test_new.csv\")\n",
    "water_test <- mutate(water_test, urban_bi = \n",
    "                case_when(urban == \"R\" ~ 0,\n",
    "                          urban == \"U\" ~ 1))"
   ]
  },
  {
   "cell_type": "code",
   "execution_count": null,
   "id": "9583c5f0-3bbe-465f-a049-e088111ae021",
   "metadata": {
    "tags": []
   },
   "outputs": [],
   "source": [
    "# water_split <- initial_split(water, prop = 0.75, strata = water_index)\n",
    "# water_train <- training(water_split)\n",
    "# water_test <- testing(water_split)"
   ]
  },
  {
   "cell_type": "code",
   "execution_count": null,
   "id": "4c24c0a4-6956-404b-ac6b-8c4cc62973f2",
   "metadata": {
    "tags": []
   },
   "outputs": [],
   "source": [
    "# nrow(water_train)\n",
    "# nrow(water_test)\n",
    "# nrow(water)"
   ]
  },
  {
   "cell_type": "code",
   "execution_count": null,
   "id": "10c55f69-b972-4a2a-a36e-3a3c61b9a646",
   "metadata": {
    "tags": []
   },
   "outputs": [],
   "source": [
    "water_recipe <- recipe(water_index ~ asset_index, data = water_train) |>\n",
    "  step_scale(all_predictors()) |>\n",
    "  step_center(all_predictors())\n",
    "\n",
    "water_spec <- nearest_neighbor(weight_func = \"rectangular\", \n",
    "                              neighbors = tune()) |>\n",
    "  set_engine(\"kknn\") |>\n",
    "  set_mode(\"regression\")\n",
    "\n",
    "water_vfold <- vfold_cv(water_train, v = 5, strata = water_index)\n",
    "\n",
    "water_wkflw <- workflow() |>\n",
    "  add_recipe(water_recipe) |>\n",
    "  add_model(water_spec)\n",
    "\n",
    "water_wkflw"
   ]
  },
  {
   "cell_type": "code",
   "execution_count": null,
   "id": "3c26d551-5f8e-4e61-bf90-f92c88850d24",
   "metadata": {
    "tags": []
   },
   "outputs": [],
   "source": [
    "gridvals <- tibble(neighbors = seq(from = 1, to = 200, by = 3))\n",
    "\n",
    "water_results <- water_wkflw |>\n",
    "  tune_grid(resamples = water_vfold, grid = gridvals) |>\n",
    "  collect_metrics() |>\n",
    "  filter(.metric == \"rmse\")\n",
    "\n",
    "# show the results\n",
    "water_results"
   ]
  },
  {
   "cell_type": "code",
   "execution_count": null,
   "id": "a27f632c-69d1-4305-927a-568448031e43",
   "metadata": {
    "tags": []
   },
   "outputs": [],
   "source": [
    "# show only the row of minimum RMSPE\n",
    "water_min <- water_results |>\n",
    "  filter(mean == min(mean))\n",
    "\n",
    "water_min"
   ]
  },
  {
   "cell_type": "code",
   "execution_count": null,
   "id": "da89a698-6739-4ceb-9f38-341e5ce5ec64",
   "metadata": {},
   "outputs": [],
   "source": [
    "#smallest RMSPE occurs when K = 145. "
   ]
  },
  {
   "cell_type": "code",
   "execution_count": null,
   "id": "9ded68c0-939e-4ba1-b24b-97a9c6ec19f5",
   "metadata": {
    "tags": []
   },
   "outputs": [],
   "source": [
    "#Using water_train \n",
    "\n",
    "kmin <- water_min |> pull(neighbors)\n",
    "\n",
    "water_spec <- nearest_neighbor(weight_func = \"rectangular\", neighbors = kmin) |>\n",
    "  set_engine(\"kknn\") |>\n",
    "  set_mode(\"regression\")\n",
    "\n",
    "water_fit <- workflow() |>\n",
    "  add_recipe(water_recipe) |>\n",
    "  add_model(water_spec) |>\n",
    "  fit(data = water_train)\n",
    "\n",
    "water_summary <- water_fit |>\n",
    "  predict(water_test) |>\n",
    "  bind_cols(water_test) |>\n",
    "  metrics(truth = water_index, estimate = .pred) |>\n",
    "  filter(.metric == 'rmse')\n",
    "\n",
    "water_summary "
   ]
  },
  {
   "cell_type": "code",
   "execution_count": null,
   "id": "d7346400-0d02-4f29-98c3-fd5801e5b424",
   "metadata": {
    "tags": []
   },
   "outputs": [],
   "source": [
    "water_preds <- tibble(asset_index = seq(from = -3, to = 3, by = 0.01))\n",
    "\n",
    "water_preds <- water_fit |>\n",
    "  predict(water_preds) |>\n",
    "  bind_cols(water_preds)\n",
    "\n",
    "water_preds\n",
    "\n",
    "plot_final <- ggplot(water_train, aes(x = asset_index, y = water_index)) +\n",
    "  geom_point(alpha = 0.4) +\n",
    "  geom_line(data = water_preds, \n",
    "            mapping = aes(x = asset_index, y = .pred), \n",
    "            color = \"blue\") +\n",
    "  xlab(\"Asset Index\") +\n",
    "  ylab(\"Water Index\") +\n",
    "  ggtitle(paste0(\"K = \", kmin)) + \n",
    "  theme(text = element_text(size = 12))\n",
    "\n",
    "plot_final"
   ]
  },
  {
   "cell_type": "code",
   "execution_count": null,
   "id": "d03114d6-b8d6-4d09-9f3b-35fca3a156fc",
   "metadata": {
    "tags": []
   },
   "outputs": [],
   "source": [
    "# using test_masked\n",
    "test_masked_new <- read.csv(\"test_masked_new.csv\")\n",
    "test_masked_new <- mutate(test_masked_new, urban_bi = \n",
    "                case_when(urban == \"R\" ~ 0,\n",
    "                          urban == \"U\" ~ 1))\n",
    "\n",
    "X_train <- water_train[, -asset_index] # remove the target column from training data\n",
    "X_test <- test_masked_new[, -asset_index] # remove the target column from test data\n",
    "\n",
    "Y_train <- water_train[, water_index] # select only the target column from training data\n",
    "\n",
    "knn_model <- knn.reg(X_train, X_test, Y_train, kmin)\n",
    "\n",
    "Y_pred <- knn_model$water_index\n",
    "\n",
    "test_results <- cbind(test_masked_new, Y_pred)\n",
    "test_results"
   ]
  }
 ],
 "metadata": {
  "kernelspec": {
   "display_name": "R",
   "language": "R",
   "name": "ir"
  },
  "language_info": {
   "codemirror_mode": "r",
   "file_extension": ".r",
   "mimetype": "text/x-r-source",
   "name": "R",
   "pygments_lexer": "r",
   "version": "4.1.1"
  }
 },
 "nbformat": 4,
 "nbformat_minor": 5
}
