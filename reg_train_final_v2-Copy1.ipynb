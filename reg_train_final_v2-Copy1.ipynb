{
 "cells": [
  {
   "cell_type": "raw",
   "id": "ee628479-c3a1-4ee5-946a-27fadd912f03",
   "metadata": {
    "tags": []
   },
   "source": [
    "install.packages(\"kknn\")\n",
    "install.packages(\"gridExtra\")\n",
    "library(tidyverse)\n",
    "library(tidymodels)\n",
    "library(gridExtra)\n",
    "library(dplyr)\n",
    "library(kknn)\n",
    "library(class)\n",
    "\n",
    "set.seed(5)"
   ]
  },
  {
   "cell_type": "code",
   "execution_count": null,
   "id": "375127b1",
   "metadata": {
    "tags": []
   },
   "outputs": [],
   "source": [
    "water_train <- read_csv(\"train_final_v2.csv\")|>\n",
    "select(NDVI, AWEI, water_index)\n",
    "head(water_train)"
   ]
  },
  {
   "cell_type": "code",
   "execution_count": 1,
   "id": "10c55f69-b972-4a2a-a36e-3a3c61b9a646",
   "metadata": {
    "tags": []
   },
   "outputs": [
    {
     "ename": "ERROR",
     "evalue": "Error in step_center(step_scale(recipe(water_index ~ ., data = water_train), : could not find function \"step_center\"\n",
     "output_type": "error",
     "traceback": [
      "Error in step_center(step_scale(recipe(water_index ~ ., data = water_train), : could not find function \"step_center\"\nTraceback:\n"
     ]
    }
   ],
   "source": [
    "water_recipe <- recipe(water_index ~ ., data = water_train) |>\n",
    "  step_scale(all_predictors()) |>\n",
    "  step_center(all_predictors())\n",
    "\n",
    "water_spec <- nearest_neighbor(weight_func = \"rectangular\", \n",
    "                              neighbors = tune()) |>\n",
    "  set_engine(\"kknn\") |>\n",
    "  set_mode(\"regression\")\n",
    "\n",
    "water_vfold <- vfold_cv(water_train, v = 5, strata = water_index)\n",
    "\n",
    "water_wkflw <- workflow() |>\n",
    "  add_recipe(water_recipe) |>\n",
    "  add_model(water_spec)\n",
    "\n",
    "water_wkflw"
   ]
  },
  {
   "cell_type": "code",
   "execution_count": null,
   "id": "3c26d551-5f8e-4e61-bf90-f92c88850d24",
   "metadata": {
    "tags": []
   },
   "outputs": [],
   "source": [
    "gridvals <- tibble(neighbors = seq(from = 180, to = 201, by = 1))\n",
    "\n",
    "water_results <- water_wkflw |>\n",
    "  tune_grid(resamples = water_vfold, grid = gridvals) |>\n",
    "  collect_metrics() |>\n",
    "  filter(.metric == \"rmse\")\n",
    "\n",
    "# show the results\n",
    "water_results"
   ]
  },
  {
   "cell_type": "code",
   "execution_count": null,
   "id": "a27f632c-69d1-4305-927a-568448031e43",
   "metadata": {
    "tags": []
   },
   "outputs": [],
   "source": [
    "# show only the row of minimum RMSPE\n",
    "water_min <- water_results |>\n",
    "  filter(mean == min(mean))\n",
    "\n",
    "water_min"
   ]
  },
  {
   "cell_type": "code",
   "execution_count": 2,
   "id": "9ded68c0-939e-4ba1-b24b-97a9c6ec19f5",
   "metadata": {
    "tags": []
   },
   "outputs": [
    {
     "ename": "ERROR",
     "evalue": "Error in pull(water_min, neighbors): could not find function \"pull\"\n",
     "output_type": "error",
     "traceback": [
      "Error in pull(water_min, neighbors): could not find function \"pull\"\nTraceback:\n"
     ]
    }
   ],
   "source": [
    "kmin <- water_min |> \n",
    "pull(neighbors)\n",
    "\n",
    "water_spec <- nearest_neighbor(weight_func = \"rectangular\", neighbors = kmin) |> #kmin\n",
    "  set_engine(\"kknn\") |>\n",
    "  set_mode(\"regression\")\n",
    "\n",
    "water_fit <- workflow() |>\n",
    "  add_recipe(water_recipe) |>\n",
    "  add_model(water_spec) |>\n",
    "  fit(data = water_train)\n",
    "\n",
    "test_masked_new <- read.csv(\"test_masked_v2.csv\")\n",
    "\n",
    "water_summary <- water_fit |>\n",
    "predict(test_masked_new) |>\n",
    "bind_cols(test_masked_new) |>\n",
    "rename(water_index = .pred)|>\n",
    "select(DHSID_EA, water_index)\n",
    "#metrics(truth = water_index, estimate = .pred) |>\n",
    "#filter(.metric == 'rmse')\n",
    "water_summary"
   ]
  },
  {
   "cell_type": "code",
   "execution_count": null,
   "id": "c8a884e9-198c-4eb9-bd51-92fdc0f91d20",
   "metadata": {},
   "outputs": [],
   "source": [
    "wtr_test <- read.csv(\"water_test_v3.csv\")\n",
    "\n",
    "w_summary <- water_fit |>\n",
    "  predict(wtr_test) |>\n",
    "  bind_cols(wtr_test) |>\n",
    "   metrics(truth = water_index, estimate = .pred) |>\n",
    "   filter(.metric == 'rmse')\n",
    "w_summary\n"
   ]
  },
  {
   "cell_type": "code",
   "execution_count": 44,
   "id": "d7346400-0d02-4f29-98c3-fd5801e5b424",
   "metadata": {
    "tags": []
   },
   "outputs": [],
   "source": [
    "write.csv(water_summary, file = \"solution3.csv\")"
   ]
  }
 ],
 "metadata": {
  "kernelspec": {
   "display_name": "R",
   "language": "R",
   "name": "ir"
  },
  "language_info": {
   "codemirror_mode": "r",
   "file_extension": ".r",
   "mimetype": "text/x-r-source",
   "name": "R",
   "pygments_lexer": "r",
   "version": "4.1.1"
  }
 },
 "nbformat": 4,
 "nbformat_minor": 5
}
