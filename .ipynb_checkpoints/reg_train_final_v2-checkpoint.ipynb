{
 "cells": [
  {
   "cell_type": "code",
   "execution_count": 10,
   "id": "f6ac08ec",
   "metadata": {
    "tags": []
   },
   "outputs": [
    {
     "name": "stderr",
     "output_type": "stream",
     "text": [
      "Installing package into ‘/home/jupyter/R/x86_64-pc-linux-gnu-library/4.2’\n",
      "(as ‘lib’ is unspecified)\n",
      "\n",
      "Warning message in install.packages(\"kknn\"):\n",
      "“installation of package ‘kknn’ had non-zero exit status”\n",
      "Installing package into ‘/home/jupyter/R/x86_64-pc-linux-gnu-library/4.2’\n",
      "(as ‘lib’ is unspecified)\n",
      "\n"
     ]
    },
    {
     "ename": "ERROR",
     "evalue": "Error in library(kknn): there is no package called ‘kknn’\n",
     "output_type": "error",
     "traceback": [
      "Error in library(kknn): there is no package called ‘kknn’\nTraceback:\n",
      "1. library(kknn)"
     ]
    }
   ],
   "source": [
    "install.packages(\"kknn\")\n",
    "install.packages(\"gridExtra\")\n",
    "library(tidyverse)\n",
    "library(tidymodels)\n",
    "library(gridExtra)\n",
    "library(dplyr)\n",
    "library(kknn)\n",
    "library(class)\n",
    "\n",
    "set.seed(5)"
   ]
  },
  {
   "cell_type": "code",
   "execution_count": 7,
   "id": "1b7c524c-7350-4d0e-aed9-bcdffe21f8f9",
   "metadata": {
    "tags": []
   },
   "outputs": [
    {
     "name": "stderr",
     "output_type": "stream",
     "text": [
      "Downloading GitHub repo KlausVigo/kknn@HEAD\n",
      "\n"
     ]
    },
    {
     "name": "stdout",
     "output_type": "stream",
     "text": [
      "\n",
      "\u001b[36m──\u001b[39m \u001b[36mR CMD build\u001b[39m \u001b[36m─────────────────────────────────────────────────────────────────\u001b[39m\n",
      "* checking for file ‘/tmp/Rtmp7ocaWE/remotes52572df2c774/KlausVigo-kknn-3becbeb/DESCRIPTION’ ... OK\n",
      "* preparing ‘kknn’:\n",
      "* checking DESCRIPTION meta-information ... OK\n",
      "* cleaning src\n",
      "* checking for LF line-endings in source and make files and shell scripts\n",
      "* checking for empty or unneeded directories\n",
      "* looking to see if a ‘data/datalist’ file should be added\n",
      "* building ‘kknn_1.3.3.tar.gz’\n",
      "\n"
     ]
    },
    {
     "name": "stderr",
     "output_type": "stream",
     "text": [
      "Installing package into ‘/home/jupyter/R/x86_64-pc-linux-gnu-library/4.2’\n",
      "(as ‘lib’ is unspecified)\n",
      "\n",
      "Warning message in i.p(...):\n",
      "“installation of package ‘/tmp/Rtmp7ocaWE/file52573e159753/kknn_1.3.3.tar.gz’ had non-zero exit status”\n"
     ]
    }
   ],
   "source": [
    "devtools::install_github(\"KlausVigo/kknn\")"
   ]
  },
  {
   "cell_type": "code",
   "execution_count": 3,
   "id": "375127b1",
   "metadata": {
    "tags": []
   },
   "outputs": [
    {
     "name": "stderr",
     "output_type": "stream",
     "text": [
      "\u001b[1m\u001b[22mNew names:\n",
      "\u001b[36m•\u001b[39m `` -> `...1`\n",
      "\u001b[1mRows: \u001b[22m\u001b[34m14040\u001b[39m \u001b[1mColumns: \u001b[22m\u001b[34m30\u001b[39m\n",
      "\u001b[36m──\u001b[39m \u001b[1mColumn specification\u001b[22m \u001b[36m────────────────────────────────────────────────────────\u001b[39m\n",
      "\u001b[1mDelimiter:\u001b[22m \",\"\n",
      "\u001b[31mchr\u001b[39m  (4): DHSID_EA, cname, urban, path\n",
      "\u001b[32mdbl\u001b[39m (26): ...1, Unnamed: 0.2, index, NDVI, AWEI, NDWI, MNDWI, BLUE, GREEN, R...\n",
      "\n",
      "\u001b[36mℹ\u001b[39m Use `spec()` to retrieve the full column specification for this data.\n",
      "\u001b[36mℹ\u001b[39m Specify the column types or set `show_col_types = FALSE` to quiet this message.\n"
     ]
    },
    {
     "data": {
      "text/html": [
       "<table class=\"dataframe\">\n",
       "<caption>A tibble: 6 × 30</caption>\n",
       "<thead>\n",
       "\t<tr><th scope=col>...1</th><th scope=col>Unnamed: 0.2</th><th scope=col>index</th><th scope=col>NDVI</th><th scope=col>AWEI</th><th scope=col>NDWI</th><th scope=col>MNDWI</th><th scope=col>BLUE</th><th scope=col>GREEN</th><th scope=col>RED</th><th scope=col>⋯</th><th scope=col>lat</th><th scope=col>lon</th><th scope=col>n_asset</th><th scope=col>asset_index</th><th scope=col>n_water</th><th scope=col>water_index</th><th scope=col>cluster_id</th><th scope=col>adm1dhs</th><th scope=col>urban</th><th scope=col>path</th></tr>\n",
       "\t<tr><th scope=col>&lt;dbl&gt;</th><th scope=col>&lt;dbl&gt;</th><th scope=col>&lt;dbl&gt;</th><th scope=col>&lt;dbl&gt;</th><th scope=col>&lt;dbl&gt;</th><th scope=col>&lt;dbl&gt;</th><th scope=col>&lt;dbl&gt;</th><th scope=col>&lt;dbl&gt;</th><th scope=col>&lt;dbl&gt;</th><th scope=col>&lt;dbl&gt;</th><th scope=col>⋯</th><th scope=col>&lt;dbl&gt;</th><th scope=col>&lt;dbl&gt;</th><th scope=col>&lt;dbl&gt;</th><th scope=col>&lt;dbl&gt;</th><th scope=col>&lt;dbl&gt;</th><th scope=col>&lt;dbl&gt;</th><th scope=col>&lt;dbl&gt;</th><th scope=col>&lt;dbl&gt;</th><th scope=col>&lt;chr&gt;</th><th scope=col>&lt;chr&gt;</th></tr>\n",
       "</thead>\n",
       "<tbody>\n",
       "\t<tr><td>0</td><td>0</td><td>0</td><td> 0.15091342</td><td> 0.1377639</td><td> 0.14315931</td><td>-0.3360633</td><td>0.2183514</td><td>0.3346812</td><td>0.1843331</td><td>⋯</td><td>12.47224</td><td>92.88352</td><td>22</td><td>-2.8366909</td><td>22</td><td>1.136364</td><td>10027</td><td>1</td><td>R</td><td>dhs_train/IA-2015-7-00010027.npz</td></tr>\n",
       "\t<tr><td>1</td><td>1</td><td>1</td><td>-0.06162288</td><td> 0.5193895</td><td> 0.15604007</td><td>-0.2996802</td><td>0.6147454</td><td>0.6326838</td><td>0.5377784</td><td>⋯</td><td>16.81560</td><td>81.32953</td><td>21</td><td> 0.7328514</td><td>21</td><td>2.523810</td><td>20670</td><td>2</td><td>R</td><td>dhs_train/IA-2015-7-00020670.npz</td></tr>\n",
       "\t<tr><td>2</td><td>2</td><td>2</td><td> 0.17509297</td><td>-0.3504645</td><td>-0.09160909</td><td>-0.4474945</td><td>0.2581578</td><td>0.2886242</td><td>0.1938371</td><td>⋯</td><td>16.18045</td><td>80.52574</td><td>21</td><td> 1.2071742</td><td>21</td><td>3.000000</td><td>20924</td><td>2</td><td>R</td><td>dhs_train/IA-2015-7-00020924.npz</td></tr>\n",
       "\t<tr><td>3</td><td>3</td><td>3</td><td> 0.09736130</td><td> 0.1920395</td><td> 0.05856368</td><td>-0.3259240</td><td>0.5810377</td><td>0.6375030</td><td>0.4906625</td><td>⋯</td><td>17.51453</td><td>82.07739</td><td>21</td><td>-1.0345821</td><td>21</td><td>3.000000</td><td>20926</td><td>2</td><td>R</td><td>dhs_train/IA-2015-7-00020926.npz</td></tr>\n",
       "\t<tr><td>4</td><td>4</td><td>4</td><td> 0.20933533</td><td>-0.4637815</td><td>-0.13595268</td><td>-0.3585068</td><td>0.5250097</td><td>0.5402117</td><td>0.4736024</td><td>⋯</td><td>27.52436</td><td>96.01083</td><td>19</td><td>-0.1063011</td><td>19</td><td>3.000000</td><td>30004</td><td>3</td><td>R</td><td>dhs_train/IA-2015-7-00030004.npz</td></tr>\n",
       "\t<tr><td>5</td><td>5</td><td>5</td><td> 0.27537033</td><td>-0.4040085</td><td>-0.11348967</td><td>-0.4042598</td><td>0.4206806</td><td>0.3393024</td><td>0.2717990</td><td>⋯</td><td>27.36717</td><td>92.58969</td><td>20</td><td>-1.0369096</td><td>20</td><td>2.400000</td><td>30010</td><td>3</td><td>R</td><td>dhs_train/IA-2015-7-00030010.npz</td></tr>\n",
       "</tbody>\n",
       "</table>\n"
      ],
      "text/latex": [
       "A tibble: 6 × 30\n",
       "\\begin{tabular}{lllllllllllllllllllll}\n",
       " ...1 & Unnamed: 0.2 & index & NDVI & AWEI & NDWI & MNDWI & BLUE & GREEN & RED & ⋯ & lat & lon & n\\_asset & asset\\_index & n\\_water & water\\_index & cluster\\_id & adm1dhs & urban & path\\\\\n",
       " <dbl> & <dbl> & <dbl> & <dbl> & <dbl> & <dbl> & <dbl> & <dbl> & <dbl> & <dbl> & ⋯ & <dbl> & <dbl> & <dbl> & <dbl> & <dbl> & <dbl> & <dbl> & <dbl> & <chr> & <chr>\\\\\n",
       "\\hline\n",
       "\t 0 & 0 & 0 &  0.15091342 &  0.1377639 &  0.14315931 & -0.3360633 & 0.2183514 & 0.3346812 & 0.1843331 & ⋯ & 12.47224 & 92.88352 & 22 & -2.8366909 & 22 & 1.136364 & 10027 & 1 & R & dhs\\_train/IA-2015-7-00010027.npz\\\\\n",
       "\t 1 & 1 & 1 & -0.06162288 &  0.5193895 &  0.15604007 & -0.2996802 & 0.6147454 & 0.6326838 & 0.5377784 & ⋯ & 16.81560 & 81.32953 & 21 &  0.7328514 & 21 & 2.523810 & 20670 & 2 & R & dhs\\_train/IA-2015-7-00020670.npz\\\\\n",
       "\t 2 & 2 & 2 &  0.17509297 & -0.3504645 & -0.09160909 & -0.4474945 & 0.2581578 & 0.2886242 & 0.1938371 & ⋯ & 16.18045 & 80.52574 & 21 &  1.2071742 & 21 & 3.000000 & 20924 & 2 & R & dhs\\_train/IA-2015-7-00020924.npz\\\\\n",
       "\t 3 & 3 & 3 &  0.09736130 &  0.1920395 &  0.05856368 & -0.3259240 & 0.5810377 & 0.6375030 & 0.4906625 & ⋯ & 17.51453 & 82.07739 & 21 & -1.0345821 & 21 & 3.000000 & 20926 & 2 & R & dhs\\_train/IA-2015-7-00020926.npz\\\\\n",
       "\t 4 & 4 & 4 &  0.20933533 & -0.4637815 & -0.13595268 & -0.3585068 & 0.5250097 & 0.5402117 & 0.4736024 & ⋯ & 27.52436 & 96.01083 & 19 & -0.1063011 & 19 & 3.000000 & 30004 & 3 & R & dhs\\_train/IA-2015-7-00030004.npz\\\\\n",
       "\t 5 & 5 & 5 &  0.27537033 & -0.4040085 & -0.11348967 & -0.4042598 & 0.4206806 & 0.3393024 & 0.2717990 & ⋯ & 27.36717 & 92.58969 & 20 & -1.0369096 & 20 & 2.400000 & 30010 & 3 & R & dhs\\_train/IA-2015-7-00030010.npz\\\\\n",
       "\\end{tabular}\n"
      ],
      "text/markdown": [
       "\n",
       "A tibble: 6 × 30\n",
       "\n",
       "| ...1 &lt;dbl&gt; | Unnamed: 0.2 &lt;dbl&gt; | index &lt;dbl&gt; | NDVI &lt;dbl&gt; | AWEI &lt;dbl&gt; | NDWI &lt;dbl&gt; | MNDWI &lt;dbl&gt; | BLUE &lt;dbl&gt; | GREEN &lt;dbl&gt; | RED &lt;dbl&gt; | ⋯ ⋯ | lat &lt;dbl&gt; | lon &lt;dbl&gt; | n_asset &lt;dbl&gt; | asset_index &lt;dbl&gt; | n_water &lt;dbl&gt; | water_index &lt;dbl&gt; | cluster_id &lt;dbl&gt; | adm1dhs &lt;dbl&gt; | urban &lt;chr&gt; | path &lt;chr&gt; |\n",
       "|---|---|---|---|---|---|---|---|---|---|---|---|---|---|---|---|---|---|---|---|---|\n",
       "| 0 | 0 | 0 |  0.15091342 |  0.1377639 |  0.14315931 | -0.3360633 | 0.2183514 | 0.3346812 | 0.1843331 | ⋯ | 12.47224 | 92.88352 | 22 | -2.8366909 | 22 | 1.136364 | 10027 | 1 | R | dhs_train/IA-2015-7-00010027.npz |\n",
       "| 1 | 1 | 1 | -0.06162288 |  0.5193895 |  0.15604007 | -0.2996802 | 0.6147454 | 0.6326838 | 0.5377784 | ⋯ | 16.81560 | 81.32953 | 21 |  0.7328514 | 21 | 2.523810 | 20670 | 2 | R | dhs_train/IA-2015-7-00020670.npz |\n",
       "| 2 | 2 | 2 |  0.17509297 | -0.3504645 | -0.09160909 | -0.4474945 | 0.2581578 | 0.2886242 | 0.1938371 | ⋯ | 16.18045 | 80.52574 | 21 |  1.2071742 | 21 | 3.000000 | 20924 | 2 | R | dhs_train/IA-2015-7-00020924.npz |\n",
       "| 3 | 3 | 3 |  0.09736130 |  0.1920395 |  0.05856368 | -0.3259240 | 0.5810377 | 0.6375030 | 0.4906625 | ⋯ | 17.51453 | 82.07739 | 21 | -1.0345821 | 21 | 3.000000 | 20926 | 2 | R | dhs_train/IA-2015-7-00020926.npz |\n",
       "| 4 | 4 | 4 |  0.20933533 | -0.4637815 | -0.13595268 | -0.3585068 | 0.5250097 | 0.5402117 | 0.4736024 | ⋯ | 27.52436 | 96.01083 | 19 | -0.1063011 | 19 | 3.000000 | 30004 | 3 | R | dhs_train/IA-2015-7-00030004.npz |\n",
       "| 5 | 5 | 5 |  0.27537033 | -0.4040085 | -0.11348967 | -0.4042598 | 0.4206806 | 0.3393024 | 0.2717990 | ⋯ | 27.36717 | 92.58969 | 20 | -1.0369096 | 20 | 2.400000 | 30010 | 3 | R | dhs_train/IA-2015-7-00030010.npz |\n",
       "\n"
      ],
      "text/plain": [
       "  ...1 Unnamed: 0.2 index NDVI        AWEI       NDWI        MNDWI     \n",
       "1 0    0            0      0.15091342  0.1377639  0.14315931 -0.3360633\n",
       "2 1    1            1     -0.06162288  0.5193895  0.15604007 -0.2996802\n",
       "3 2    2            2      0.17509297 -0.3504645 -0.09160909 -0.4474945\n",
       "4 3    3            3      0.09736130  0.1920395  0.05856368 -0.3259240\n",
       "5 4    4            4      0.20933533 -0.4637815 -0.13595268 -0.3585068\n",
       "6 5    5            5      0.27537033 -0.4040085 -0.11348967 -0.4042598\n",
       "  BLUE      GREEN     RED       ⋯ lat      lon      n_asset asset_index n_water\n",
       "1 0.2183514 0.3346812 0.1843331 ⋯ 12.47224 92.88352 22      -2.8366909  22     \n",
       "2 0.6147454 0.6326838 0.5377784 ⋯ 16.81560 81.32953 21       0.7328514  21     \n",
       "3 0.2581578 0.2886242 0.1938371 ⋯ 16.18045 80.52574 21       1.2071742  21     \n",
       "4 0.5810377 0.6375030 0.4906625 ⋯ 17.51453 82.07739 21      -1.0345821  21     \n",
       "5 0.5250097 0.5402117 0.4736024 ⋯ 27.52436 96.01083 19      -0.1063011  19     \n",
       "6 0.4206806 0.3393024 0.2717990 ⋯ 27.36717 92.58969 20      -1.0369096  20     \n",
       "  water_index cluster_id adm1dhs urban path                            \n",
       "1 1.136364    10027      1       R     dhs_train/IA-2015-7-00010027.npz\n",
       "2 2.523810    20670      2       R     dhs_train/IA-2015-7-00020670.npz\n",
       "3 3.000000    20924      2       R     dhs_train/IA-2015-7-00020924.npz\n",
       "4 3.000000    20926      2       R     dhs_train/IA-2015-7-00020926.npz\n",
       "5 3.000000    30004      3       R     dhs_train/IA-2015-7-00030004.npz\n",
       "6 2.400000    30010      3       R     dhs_train/IA-2015-7-00030010.npz"
      ]
     },
     "metadata": {},
     "output_type": "display_data"
    }
   ],
   "source": [
    "#water <- read_csv(\"train.csv\")\n",
    "water_train <- read_csv(\"train_final_v2.csv\")\n",
    "# water_train <- mutate(water_train, urban_bi = \n",
    "#                 case_when(urban == \"R\" ~ 0,\n",
    "#                           urban == \"U\" ~ 1))\n",
    "#water_test <- read_csv(\"water_test_new.csv\")\n",
    "# water_test <- mutate(water_test, urban_bi = \n",
    "#                 case_when(urban == \"R\" ~ 0,\n",
    "#                           urban == \"U\" ~ 1))\n",
    "head(water_train)"
   ]
  },
  {
   "cell_type": "code",
   "execution_count": 4,
   "id": "10c55f69-b972-4a2a-a36e-3a3c61b9a646",
   "metadata": {
    "tags": []
   },
   "outputs": [
    {
     "data": {
      "text/plain": [
       "══ Workflow ════════════════════════════════════════════════════════════════════\n",
       "\u001b[3mPreprocessor:\u001b[23m Recipe\n",
       "\u001b[3mModel:\u001b[23m nearest_neighbor()\n",
       "\n",
       "── Preprocessor ────────────────────────────────────────────────────────────────\n",
       "2 Recipe Steps\n",
       "\n",
       "• step_scale()\n",
       "• step_center()\n",
       "\n",
       "── Model ───────────────────────────────────────────────────────────────────────\n",
       "K-Nearest Neighbor Model Specification (regression)\n",
       "\n",
       "Main Arguments:\n",
       "  neighbors = tune()\n",
       "  weight_func = rectangular\n",
       "\n",
       "Computational engine: kknn \n"
      ]
     },
     "metadata": {},
     "output_type": "display_data"
    }
   ],
   "source": [
    "water_recipe <- recipe(water_index ~ NDVI + AWEI + NDWI + MNDWI + BLUE + GREEN + RED + NIR + SWIR_1 + THERMAL + SWIR_2 + PANCH + lat + lon + n_asset + asset_index, data = water_train) |>\n",
    "  step_scale(all_predictors()) |>\n",
    "  step_center(all_predictors())\n",
    "\n",
    "water_spec <- nearest_neighbor(weight_func = \"rectangular\", \n",
    "                              neighbors = tune()) |>\n",
    "  set_engine(\"kknn\") |>\n",
    "  set_mode(\"regression\")\n",
    "\n",
    "water_vfold <- vfold_cv(water_train, v = 5, strata = water_index)\n",
    "\n",
    "water_wkflw <- workflow() |>\n",
    "  add_recipe(water_recipe) |>\n",
    "  add_model(water_spec)\n",
    "\n",
    "water_wkflw"
   ]
  },
  {
   "cell_type": "code",
   "execution_count": 5,
   "id": "3c26d551-5f8e-4e61-bf90-f92c88850d24",
   "metadata": {
    "tags": []
   },
   "outputs": [
    {
     "ename": "ERROR",
     "evalue": "\u001b[1m\u001b[33mError\u001b[39m in `check_installs()`:\u001b[22m\n\u001b[33m!\u001b[39m Some package installs are required: \n\u001b[36m•\u001b[39m 'kknn', 'kknn'\n",
     "output_type": "error",
     "traceback": [
      "\u001b[1m\u001b[33mError\u001b[39m in `check_installs()`:\u001b[22m\n\u001b[33m!\u001b[39m Some package installs are required: \n\u001b[36m•\u001b[39m 'kknn', 'kknn'\nTraceback:\n",
      "1. filter(collect_metrics(tune_grid(water_wkflw, resamples = water_vfold, \n .     grid = gridvals)), .metric == \"rmse\")",
      "2. collect_metrics(tune_grid(water_wkflw, resamples = water_vfold, \n .     grid = gridvals))",
      "3. tune_grid(water_wkflw, resamples = water_vfold, grid = gridvals)",
      "4. tune_grid.workflow(water_wkflw, resamples = water_vfold, grid = gridvals)",
      "5. tune_grid_workflow(object, resamples = resamples, grid = grid, \n .     metrics = metrics, pset = param_info, control = control)",
      "6. check_workflow(workflow, pset = pset)",
      "7. check_installs(hardhat::extract_spec_parsnip(x))",
      "8. rlang::abort(c(\"Some package installs are required: \", paste0(\"'\", \n .     deps[!is_inst], \"'\", collapse = \", \")))",
      "9. signal_abort(cnd, .file)"
     ]
    }
   ],
   "source": [
    "gridvals <- tibble(neighbors = seq(from = 10, to = 20, by = 1))\n",
    "\n",
    "water_results <- water_wkflw |>\n",
    "  tune_grid(resamples = water_vfold, grid = gridvals) |>\n",
    "  collect_metrics() |>\n",
    "  filter(.metric == \"rmse\")\n",
    "\n",
    "# show the results\n",
    "water_results"
   ]
  },
  {
   "cell_type": "code",
   "execution_count": 19,
   "id": "a27f632c-69d1-4305-927a-568448031e43",
   "metadata": {
    "tags": []
   },
   "outputs": [
    {
     "data": {
      "text/html": [
       "<table class=\"dataframe\">\n",
       "<caption>A tibble: 1 × 7</caption>\n",
       "<thead>\n",
       "\t<tr><th scope=col>neighbors</th><th scope=col>.metric</th><th scope=col>.estimator</th><th scope=col>mean</th><th scope=col>n</th><th scope=col>std_err</th><th scope=col>.config</th></tr>\n",
       "\t<tr><th scope=col>&lt;dbl&gt;</th><th scope=col>&lt;chr&gt;</th><th scope=col>&lt;chr&gt;</th><th scope=col>&lt;dbl&gt;</th><th scope=col>&lt;int&gt;</th><th scope=col>&lt;dbl&gt;</th><th scope=col>&lt;chr&gt;</th></tr>\n",
       "</thead>\n",
       "<tbody>\n",
       "\t<tr><td>13</td><td>rmse</td><td>standard</td><td>0.5348943</td><td>5</td><td>0.006940781</td><td>Preprocessor1_Model04</td></tr>\n",
       "</tbody>\n",
       "</table>\n"
      ],
      "text/latex": [
       "A tibble: 1 × 7\n",
       "\\begin{tabular}{lllllll}\n",
       " neighbors & .metric & .estimator & mean & n & std\\_err & .config\\\\\n",
       " <dbl> & <chr> & <chr> & <dbl> & <int> & <dbl> & <chr>\\\\\n",
       "\\hline\n",
       "\t 13 & rmse & standard & 0.5348943 & 5 & 0.006940781 & Preprocessor1\\_Model04\\\\\n",
       "\\end{tabular}\n"
      ],
      "text/markdown": [
       "\n",
       "A tibble: 1 × 7\n",
       "\n",
       "| neighbors &lt;dbl&gt; | .metric &lt;chr&gt; | .estimator &lt;chr&gt; | mean &lt;dbl&gt; | n &lt;int&gt; | std_err &lt;dbl&gt; | .config &lt;chr&gt; |\n",
       "|---|---|---|---|---|---|---|\n",
       "| 13 | rmse | standard | 0.5348943 | 5 | 0.006940781 | Preprocessor1_Model04 |\n",
       "\n"
      ],
      "text/plain": [
       "  neighbors .metric .estimator mean      n std_err     .config              \n",
       "1 13        rmse    standard   0.5348943 5 0.006940781 Preprocessor1_Model04"
      ]
     },
     "metadata": {},
     "output_type": "display_data"
    }
   ],
   "source": [
    "# show only the row of minimum RMSPE\n",
    "water_min <- water_results |>\n",
    "  filter(mean == min(mean))\n",
    "\n",
    "water_min"
   ]
  },
  {
   "cell_type": "code",
   "execution_count": null,
   "id": "da89a698-6739-4ceb-9f38-341e5ce5ec64",
   "metadata": {
    "tags": []
   },
   "outputs": [],
   "source": [
    "#smallest RMSPE occurs when K = 145. "
   ]
  },
  {
   "cell_type": "code",
   "execution_count": 29,
   "id": "9ded68c0-939e-4ba1-b24b-97a9c6ec19f5",
   "metadata": {
    "tags": []
   },
   "outputs": [
    {
     "data": {
      "text/html": [
       "<table class=\"dataframe\">\n",
       "<caption>A tibble: 2675 × 2</caption>\n",
       "<thead>\n",
       "\t<tr><th scope=col>DHSID_EA</th><th scope=col>water_index</th></tr>\n",
       "\t<tr><th scope=col>&lt;chr&gt;</th><th scope=col>&lt;dbl&gt;</th></tr>\n",
       "</thead>\n",
       "<tbody>\n",
       "\t<tr><td>IA-2015-7-00010009</td><td>4.820113</td></tr>\n",
       "\t<tr><td>IA-2015-7-00010011</td><td>4.910406</td></tr>\n",
       "\t<tr><td>IA-2015-7-00010017</td><td>4.148851</td></tr>\n",
       "\t<tr><td>IA-2015-7-00010044</td><td>4.787279</td></tr>\n",
       "\t<tr><td>IA-2015-7-00010060</td><td>4.478355</td></tr>\n",
       "\t<tr><td>IA-2015-7-00010072</td><td>4.658394</td></tr>\n",
       "\t<tr><td>IA-2015-7-00010074</td><td>4.882551</td></tr>\n",
       "\t<tr><td>IA-2015-7-00010099</td><td>4.972028</td></tr>\n",
       "\t<tr><td>IA-2015-7-00010109</td><td>3.550800</td></tr>\n",
       "\t<tr><td>IA-2015-7-00010168</td><td>4.494172</td></tr>\n",
       "\t<tr><td>IA-2015-7-00010172</td><td>4.788878</td></tr>\n",
       "\t<tr><td>IA-2015-7-00020001</td><td>4.799867</td></tr>\n",
       "\t<tr><td>IA-2015-7-00020024</td><td>4.754262</td></tr>\n",
       "\t<tr><td>IA-2015-7-00020074</td><td>4.551060</td></tr>\n",
       "\t<tr><td>IA-2015-7-00020085</td><td>3.489344</td></tr>\n",
       "\t<tr><td>IA-2015-7-00020095</td><td>4.850233</td></tr>\n",
       "\t<tr><td>IA-2015-7-00020113</td><td>4.596204</td></tr>\n",
       "\t<tr><td>IA-2015-7-00020115</td><td>4.929071</td></tr>\n",
       "\t<tr><td>IA-2015-7-00020160</td><td>4.775991</td></tr>\n",
       "\t<tr><td>IA-2015-7-00020173</td><td>4.668498</td></tr>\n",
       "\t<tr><td>IA-2015-7-00020194</td><td>4.881136</td></tr>\n",
       "\t<tr><td>IA-2015-7-00020206</td><td>4.827772</td></tr>\n",
       "\t<tr><td>IA-2015-7-00020229</td><td>4.849817</td></tr>\n",
       "\t<tr><td>IA-2015-7-00020238</td><td>4.795837</td></tr>\n",
       "\t<tr><td>IA-2015-7-00020270</td><td>3.978655</td></tr>\n",
       "\t<tr><td>IA-2015-7-00020347</td><td>3.829004</td></tr>\n",
       "\t<tr><td>IA-2015-7-00020348</td><td>3.298602</td></tr>\n",
       "\t<tr><td>IA-2015-7-00020355</td><td>4.048834</td></tr>\n",
       "\t<tr><td>IA-2015-7-00020364</td><td>3.432575</td></tr>\n",
       "\t<tr><td>IA-2015-7-00020416</td><td>4.667949</td></tr>\n",
       "\t<tr><td>⋮</td><td>⋮</td></tr>\n",
       "\t<tr><td>IA-2015-7-00350822</td><td>3.394805</td></tr>\n",
       "\t<tr><td>IA-2015-7-00360013</td><td>4.333459</td></tr>\n",
       "\t<tr><td>IA-2015-7-00360015</td><td>4.865230</td></tr>\n",
       "\t<tr><td>IA-2015-7-00360028</td><td>4.203297</td></tr>\n",
       "\t<tr><td>IA-2015-7-00360038</td><td>4.959514</td></tr>\n",
       "\t<tr><td>IA-2015-7-00360098</td><td>4.984211</td></tr>\n",
       "\t<tr><td>IA-2015-7-00360134</td><td>3.934211</td></tr>\n",
       "\t<tr><td>IA-2015-7-00360135</td><td>4.654512</td></tr>\n",
       "\t<tr><td>IA-2015-7-00360153</td><td>4.519048</td></tr>\n",
       "\t<tr><td>IA-2015-7-00360165</td><td>4.454945</td></tr>\n",
       "\t<tr><td>IA-2015-7-00360171</td><td>4.545788</td></tr>\n",
       "\t<tr><td>IA-2015-7-00360174</td><td>4.843230</td></tr>\n",
       "\t<tr><td>IA-2015-7-00360187</td><td>3.576257</td></tr>\n",
       "\t<tr><td>IA-2015-7-00360200</td><td>4.790598</td></tr>\n",
       "\t<tr><td>IA-2015-7-00360211</td><td>4.566600</td></tr>\n",
       "\t<tr><td>IA-2015-7-00360213</td><td>4.938789</td></tr>\n",
       "\t<tr><td>IA-2015-7-00360226</td><td>4.509794</td></tr>\n",
       "\t<tr><td>IA-2015-7-00360248</td><td>4.425241</td></tr>\n",
       "\t<tr><td>IA-2015-7-00360263</td><td>4.821862</td></tr>\n",
       "\t<tr><td>IA-2015-7-00360269</td><td>4.412587</td></tr>\n",
       "\t<tr><td>IA-2015-7-00360274</td><td>4.896695</td></tr>\n",
       "\t<tr><td>IA-2015-7-00360275</td><td>4.531102</td></tr>\n",
       "\t<tr><td>IA-2015-7-00360282</td><td>3.850562</td></tr>\n",
       "\t<tr><td>IA-2015-7-00360309</td><td>3.410090</td></tr>\n",
       "\t<tr><td>IA-2015-7-00360389</td><td>4.540842</td></tr>\n",
       "\t<tr><td>IA-2015-7-00360403</td><td>4.856275</td></tr>\n",
       "\t<tr><td>IA-2015-7-00360454</td><td>4.929737</td></tr>\n",
       "\t<tr><td>IA-2015-7-00360474</td><td>4.802131</td></tr>\n",
       "\t<tr><td>IA-2015-7-00360476</td><td>4.449634</td></tr>\n",
       "\t<tr><td>IA-2015-7-00360479</td><td>4.259907</td></tr>\n",
       "</tbody>\n",
       "</table>\n"
      ],
      "text/latex": [
       "A tibble: 2675 × 2\n",
       "\\begin{tabular}{ll}\n",
       " DHSID\\_EA & water\\_index\\\\\n",
       " <chr> & <dbl>\\\\\n",
       "\\hline\n",
       "\t IA-2015-7-00010009 & 4.820113\\\\\n",
       "\t IA-2015-7-00010011 & 4.910406\\\\\n",
       "\t IA-2015-7-00010017 & 4.148851\\\\\n",
       "\t IA-2015-7-00010044 & 4.787279\\\\\n",
       "\t IA-2015-7-00010060 & 4.478355\\\\\n",
       "\t IA-2015-7-00010072 & 4.658394\\\\\n",
       "\t IA-2015-7-00010074 & 4.882551\\\\\n",
       "\t IA-2015-7-00010099 & 4.972028\\\\\n",
       "\t IA-2015-7-00010109 & 3.550800\\\\\n",
       "\t IA-2015-7-00010168 & 4.494172\\\\\n",
       "\t IA-2015-7-00010172 & 4.788878\\\\\n",
       "\t IA-2015-7-00020001 & 4.799867\\\\\n",
       "\t IA-2015-7-00020024 & 4.754262\\\\\n",
       "\t IA-2015-7-00020074 & 4.551060\\\\\n",
       "\t IA-2015-7-00020085 & 3.489344\\\\\n",
       "\t IA-2015-7-00020095 & 4.850233\\\\\n",
       "\t IA-2015-7-00020113 & 4.596204\\\\\n",
       "\t IA-2015-7-00020115 & 4.929071\\\\\n",
       "\t IA-2015-7-00020160 & 4.775991\\\\\n",
       "\t IA-2015-7-00020173 & 4.668498\\\\\n",
       "\t IA-2015-7-00020194 & 4.881136\\\\\n",
       "\t IA-2015-7-00020206 & 4.827772\\\\\n",
       "\t IA-2015-7-00020229 & 4.849817\\\\\n",
       "\t IA-2015-7-00020238 & 4.795837\\\\\n",
       "\t IA-2015-7-00020270 & 3.978655\\\\\n",
       "\t IA-2015-7-00020347 & 3.829004\\\\\n",
       "\t IA-2015-7-00020348 & 3.298602\\\\\n",
       "\t IA-2015-7-00020355 & 4.048834\\\\\n",
       "\t IA-2015-7-00020364 & 3.432575\\\\\n",
       "\t IA-2015-7-00020416 & 4.667949\\\\\n",
       "\t ⋮ & ⋮\\\\\n",
       "\t IA-2015-7-00350822 & 3.394805\\\\\n",
       "\t IA-2015-7-00360013 & 4.333459\\\\\n",
       "\t IA-2015-7-00360015 & 4.865230\\\\\n",
       "\t IA-2015-7-00360028 & 4.203297\\\\\n",
       "\t IA-2015-7-00360038 & 4.959514\\\\\n",
       "\t IA-2015-7-00360098 & 4.984211\\\\\n",
       "\t IA-2015-7-00360134 & 3.934211\\\\\n",
       "\t IA-2015-7-00360135 & 4.654512\\\\\n",
       "\t IA-2015-7-00360153 & 4.519048\\\\\n",
       "\t IA-2015-7-00360165 & 4.454945\\\\\n",
       "\t IA-2015-7-00360171 & 4.545788\\\\\n",
       "\t IA-2015-7-00360174 & 4.843230\\\\\n",
       "\t IA-2015-7-00360187 & 3.576257\\\\\n",
       "\t IA-2015-7-00360200 & 4.790598\\\\\n",
       "\t IA-2015-7-00360211 & 4.566600\\\\\n",
       "\t IA-2015-7-00360213 & 4.938789\\\\\n",
       "\t IA-2015-7-00360226 & 4.509794\\\\\n",
       "\t IA-2015-7-00360248 & 4.425241\\\\\n",
       "\t IA-2015-7-00360263 & 4.821862\\\\\n",
       "\t IA-2015-7-00360269 & 4.412587\\\\\n",
       "\t IA-2015-7-00360274 & 4.896695\\\\\n",
       "\t IA-2015-7-00360275 & 4.531102\\\\\n",
       "\t IA-2015-7-00360282 & 3.850562\\\\\n",
       "\t IA-2015-7-00360309 & 3.410090\\\\\n",
       "\t IA-2015-7-00360389 & 4.540842\\\\\n",
       "\t IA-2015-7-00360403 & 4.856275\\\\\n",
       "\t IA-2015-7-00360454 & 4.929737\\\\\n",
       "\t IA-2015-7-00360474 & 4.802131\\\\\n",
       "\t IA-2015-7-00360476 & 4.449634\\\\\n",
       "\t IA-2015-7-00360479 & 4.259907\\\\\n",
       "\\end{tabular}\n"
      ],
      "text/markdown": [
       "\n",
       "A tibble: 2675 × 2\n",
       "\n",
       "| DHSID_EA &lt;chr&gt; | water_index &lt;dbl&gt; |\n",
       "|---|---|\n",
       "| IA-2015-7-00010009 | 4.820113 |\n",
       "| IA-2015-7-00010011 | 4.910406 |\n",
       "| IA-2015-7-00010017 | 4.148851 |\n",
       "| IA-2015-7-00010044 | 4.787279 |\n",
       "| IA-2015-7-00010060 | 4.478355 |\n",
       "| IA-2015-7-00010072 | 4.658394 |\n",
       "| IA-2015-7-00010074 | 4.882551 |\n",
       "| IA-2015-7-00010099 | 4.972028 |\n",
       "| IA-2015-7-00010109 | 3.550800 |\n",
       "| IA-2015-7-00010168 | 4.494172 |\n",
       "| IA-2015-7-00010172 | 4.788878 |\n",
       "| IA-2015-7-00020001 | 4.799867 |\n",
       "| IA-2015-7-00020024 | 4.754262 |\n",
       "| IA-2015-7-00020074 | 4.551060 |\n",
       "| IA-2015-7-00020085 | 3.489344 |\n",
       "| IA-2015-7-00020095 | 4.850233 |\n",
       "| IA-2015-7-00020113 | 4.596204 |\n",
       "| IA-2015-7-00020115 | 4.929071 |\n",
       "| IA-2015-7-00020160 | 4.775991 |\n",
       "| IA-2015-7-00020173 | 4.668498 |\n",
       "| IA-2015-7-00020194 | 4.881136 |\n",
       "| IA-2015-7-00020206 | 4.827772 |\n",
       "| IA-2015-7-00020229 | 4.849817 |\n",
       "| IA-2015-7-00020238 | 4.795837 |\n",
       "| IA-2015-7-00020270 | 3.978655 |\n",
       "| IA-2015-7-00020347 | 3.829004 |\n",
       "| IA-2015-7-00020348 | 3.298602 |\n",
       "| IA-2015-7-00020355 | 4.048834 |\n",
       "| IA-2015-7-00020364 | 3.432575 |\n",
       "| IA-2015-7-00020416 | 4.667949 |\n",
       "| ⋮ | ⋮ |\n",
       "| IA-2015-7-00350822 | 3.394805 |\n",
       "| IA-2015-7-00360013 | 4.333459 |\n",
       "| IA-2015-7-00360015 | 4.865230 |\n",
       "| IA-2015-7-00360028 | 4.203297 |\n",
       "| IA-2015-7-00360038 | 4.959514 |\n",
       "| IA-2015-7-00360098 | 4.984211 |\n",
       "| IA-2015-7-00360134 | 3.934211 |\n",
       "| IA-2015-7-00360135 | 4.654512 |\n",
       "| IA-2015-7-00360153 | 4.519048 |\n",
       "| IA-2015-7-00360165 | 4.454945 |\n",
       "| IA-2015-7-00360171 | 4.545788 |\n",
       "| IA-2015-7-00360174 | 4.843230 |\n",
       "| IA-2015-7-00360187 | 3.576257 |\n",
       "| IA-2015-7-00360200 | 4.790598 |\n",
       "| IA-2015-7-00360211 | 4.566600 |\n",
       "| IA-2015-7-00360213 | 4.938789 |\n",
       "| IA-2015-7-00360226 | 4.509794 |\n",
       "| IA-2015-7-00360248 | 4.425241 |\n",
       "| IA-2015-7-00360263 | 4.821862 |\n",
       "| IA-2015-7-00360269 | 4.412587 |\n",
       "| IA-2015-7-00360274 | 4.896695 |\n",
       "| IA-2015-7-00360275 | 4.531102 |\n",
       "| IA-2015-7-00360282 | 3.850562 |\n",
       "| IA-2015-7-00360309 | 3.410090 |\n",
       "| IA-2015-7-00360389 | 4.540842 |\n",
       "| IA-2015-7-00360403 | 4.856275 |\n",
       "| IA-2015-7-00360454 | 4.929737 |\n",
       "| IA-2015-7-00360474 | 4.802131 |\n",
       "| IA-2015-7-00360476 | 4.449634 |\n",
       "| IA-2015-7-00360479 | 4.259907 |\n",
       "\n"
      ],
      "text/plain": [
       "     DHSID_EA           water_index\n",
       "1    IA-2015-7-00010009 4.820113   \n",
       "2    IA-2015-7-00010011 4.910406   \n",
       "3    IA-2015-7-00010017 4.148851   \n",
       "4    IA-2015-7-00010044 4.787279   \n",
       "5    IA-2015-7-00010060 4.478355   \n",
       "6    IA-2015-7-00010072 4.658394   \n",
       "7    IA-2015-7-00010074 4.882551   \n",
       "8    IA-2015-7-00010099 4.972028   \n",
       "9    IA-2015-7-00010109 3.550800   \n",
       "10   IA-2015-7-00010168 4.494172   \n",
       "11   IA-2015-7-00010172 4.788878   \n",
       "12   IA-2015-7-00020001 4.799867   \n",
       "13   IA-2015-7-00020024 4.754262   \n",
       "14   IA-2015-7-00020074 4.551060   \n",
       "15   IA-2015-7-00020085 3.489344   \n",
       "16   IA-2015-7-00020095 4.850233   \n",
       "17   IA-2015-7-00020113 4.596204   \n",
       "18   IA-2015-7-00020115 4.929071   \n",
       "19   IA-2015-7-00020160 4.775991   \n",
       "20   IA-2015-7-00020173 4.668498   \n",
       "21   IA-2015-7-00020194 4.881136   \n",
       "22   IA-2015-7-00020206 4.827772   \n",
       "23   IA-2015-7-00020229 4.849817   \n",
       "24   IA-2015-7-00020238 4.795837   \n",
       "25   IA-2015-7-00020270 3.978655   \n",
       "26   IA-2015-7-00020347 3.829004   \n",
       "27   IA-2015-7-00020348 3.298602   \n",
       "28   IA-2015-7-00020355 4.048834   \n",
       "29   IA-2015-7-00020364 3.432575   \n",
       "30   IA-2015-7-00020416 4.667949   \n",
       "⋮    ⋮                  ⋮          \n",
       "2646 IA-2015-7-00350822 3.394805   \n",
       "2647 IA-2015-7-00360013 4.333459   \n",
       "2648 IA-2015-7-00360015 4.865230   \n",
       "2649 IA-2015-7-00360028 4.203297   \n",
       "2650 IA-2015-7-00360038 4.959514   \n",
       "2651 IA-2015-7-00360098 4.984211   \n",
       "2652 IA-2015-7-00360134 3.934211   \n",
       "2653 IA-2015-7-00360135 4.654512   \n",
       "2654 IA-2015-7-00360153 4.519048   \n",
       "2655 IA-2015-7-00360165 4.454945   \n",
       "2656 IA-2015-7-00360171 4.545788   \n",
       "2657 IA-2015-7-00360174 4.843230   \n",
       "2658 IA-2015-7-00360187 3.576257   \n",
       "2659 IA-2015-7-00360200 4.790598   \n",
       "2660 IA-2015-7-00360211 4.566600   \n",
       "2661 IA-2015-7-00360213 4.938789   \n",
       "2662 IA-2015-7-00360226 4.509794   \n",
       "2663 IA-2015-7-00360248 4.425241   \n",
       "2664 IA-2015-7-00360263 4.821862   \n",
       "2665 IA-2015-7-00360269 4.412587   \n",
       "2666 IA-2015-7-00360274 4.896695   \n",
       "2667 IA-2015-7-00360275 4.531102   \n",
       "2668 IA-2015-7-00360282 3.850562   \n",
       "2669 IA-2015-7-00360309 3.410090   \n",
       "2670 IA-2015-7-00360389 4.540842   \n",
       "2671 IA-2015-7-00360403 4.856275   \n",
       "2672 IA-2015-7-00360454 4.929737   \n",
       "2673 IA-2015-7-00360474 4.802131   \n",
       "2674 IA-2015-7-00360476 4.449634   \n",
       "2675 IA-2015-7-00360479 4.259907   "
      ]
     },
     "metadata": {},
     "output_type": "display_data"
    }
   ],
   "source": [
    "#Using water_train \n",
    "\n",
    "kmin <- water_min |> \n",
    "pull(neighbors)\n",
    "\n",
    "water_spec <- nearest_neighbor(weight_func = \"rectangular\", neighbors = kmin) |> #kmin\n",
    "  set_engine(\"kknn\") |>\n",
    "  set_mode(\"regression\")\n",
    "\n",
    "water_fit <- workflow() |>\n",
    "  add_recipe(water_recipe) |>\n",
    "  add_model(water_spec) |>\n",
    "  fit(data = water_train)\n",
    "\n",
    "# water_summary <- water_fit |>\n",
    "#   predict(water_test) |>\n",
    "#   bind_cols(water_test) |>\n",
    "#   metrics(truth = water_index, estimate = .pred) |>\n",
    "#   filter(.metric == 'rmse')\n",
    "\n",
    "test_masked_new <- read.csv(\"test_masked_v2.csv\")\n",
    "\n",
    "water_summary <- water_fit |>\n",
    "predict(test_masked_new) |>\n",
    "bind_cols(test_masked_new) |>\n",
    "rename(water_index = .pred)|>\n",
    "select(DHSID_EA, water_index)\n",
    "#metrics(truth = water_index, estimate = .pred) |>\n",
    "#filter(.metric == 'rmse')\n",
    "water_summary\n",
    "write.csv(water_summary, file = \"solution2.csv\")\n",
    "\n"
   ]
  },
  {
   "cell_type": "code",
   "execution_count": 22,
   "id": "d7346400-0d02-4f29-98c3-fd5801e5b424",
   "metadata": {
    "tags": []
   },
   "outputs": [
    {
     "ename": "ERROR",
     "evalue": "\u001b[1m\u001b[33mError\u001b[39m in `validate_column_names()`:\u001b[22m\n\u001b[33m!\u001b[39m The following required columns are missing: 'NDVI', 'AWEI', 'NDWI', 'MNDWI', 'BLUE', 'GREEN', 'RED', 'NIR', 'SWIR_1', 'THERMAL', 'SWIR_2', 'PANCH', 'lat', 'lon', 'n_asset'.\n",
     "output_type": "error",
     "traceback": [
      "\u001b[1m\u001b[33mError\u001b[39m in `validate_column_names()`:\u001b[22m\n\u001b[33m!\u001b[39m The following required columns are missing: 'NDVI', 'AWEI', 'NDWI', 'MNDWI', 'BLUE', 'GREEN', 'RED', 'NIR', 'SWIR_1', 'THERMAL', 'SWIR_2', 'PANCH', 'lat', 'lon', 'n_asset'.\nTraceback:\n",
      "1. bind_cols(predict(water_fit, water_preds), water_preds)",
      "2. list2(...)",
      "3. predict(water_fit, water_preds)",
      "4. predict.workflow(water_fit, water_preds)",
      "5. forge_predictors(new_data, workflow)",
      "6. hardhat::forge(new_data, blueprint = mold$blueprint)",
      "7. forge.data.frame(new_data, blueprint = mold$blueprint)",
      "8. run_forge(blueprint, new_data = new_data, outcomes = outcomes)",
      "9. run_forge.default_recipe_blueprint(blueprint, new_data = new_data, \n .     outcomes = outcomes)",
      "10. forge_recipe_default_clean(blueprint = blueprint, new_data = new_data, \n  .     outcomes = outcomes)",
      "11. shrink(new_data, blueprint$ptypes$predictors)",
      "12. validate_column_names(data, cols)",
      "13. abort(message)",
      "14. signal_abort(cnd, .file)"
     ]
    }
   ],
   "source": [
    "water_preds <- tibble(asset_index = seq(from = -3, to = 3, by = 0.01))\n",
    "\n",
    "water_preds <- water_fit |>\n",
    "  predict(water_preds) |>\n",
    "  bind_cols(water_preds)\n",
    "\n",
    "\n",
    "\n",
    "plot_final <- ggplot(water_train, aes(x = asset_index, y = water_index)) +\n",
    "  geom_point(alpha = 0.4) +\n",
    "  geom_line(data = water_preds, \n",
    "            mapping = aes(x = asset_index, y = .pred), \n",
    "            color = \"blue\") +\n",
    "  xlab(\"Asset Index\") +\n",
    "  ylab(\"Water Index\") +\n",
    "  ggtitle(paste0(\"K = \", kmin)) + \n",
    "  theme(text = element_text(size = 12))\n",
    "\n",
    "plot_final"
   ]
  },
  {
   "cell_type": "code",
   "execution_count": null,
   "id": "ac8067fa-bee1-47e0-a175-c9023e1661d4",
   "metadata": {},
   "outputs": [],
   "source": []
  }
 ],
 "metadata": {
  "kernelspec": {
   "display_name": "R",
   "language": "R",
   "name": "ir"
  },
  "language_info": {
   "codemirror_mode": "r",
   "file_extension": ".r",
   "mimetype": "text/x-r-source",
   "name": "R",
   "pygments_lexer": "r",
   "version": "4.2.3"
  }
 },
 "nbformat": 4,
 "nbformat_minor": 5
}
